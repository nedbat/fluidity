{
 "cells": [
  {
   "cell_type": "code",
   "execution_count": 1,
   "id": "791bed33-5396-469f-b5f2-0d7dafb27189",
   "metadata": {},
   "outputs": [
    {
     "data": {
      "image/svg+xml": [
       "<?xml version=\"1.0\" encoding=\"UTF-8\"?>\n",
       "<svg xmlns=\"http://www.w3.org/2000/svg\" xmlns:xlink=\"http://www.w3.org/1999/xlink\" width=\"800px\" height=\"800px\" viewBox=\"0 0 800 800\">\n",
       "<rect x=\"-80\" y=\"-80\" width=\"960\" height=\"960\" fill=\"rgb(100%, 100%, 100%)\" fill-opacity=\"1\"/>\n",
       "<path fill=\"none\" stroke-width=\"2\" stroke-linecap=\"butt\" stroke-linejoin=\"miter\" stroke=\"rgb(0%, 0%, 0%)\" stroke-opacity=\"1\" stroke-miterlimit=\"10\" d=\"M 0 0 L 800 0 L 800 800 L 0 800 Z M 0 0 \"/>\n",
       "<path fill=\"none\" stroke-width=\"1\" stroke-linecap=\"butt\" stroke-linejoin=\"miter\" stroke=\"rgb(0%, 0%, 0%)\" stroke-opacity=\"1\" stroke-miterlimit=\"10\" d=\"M 675 400 C 675 551.878906 551.878906 675 400 675 C 248.121094 675 125 551.878906 125 400 C 125 248.121094 248.121094 125 400 125 C 551.878906 125 675 248.121094 675 400 \"/>\n",
       "<path fill-rule=\"nonzero\" fill=\"rgb(0%, 0%, 0%)\" fill-opacity=\"0.1\" d=\"M 550 275 L 800 275 L 800 525 L 550 525 Z M 550 275 \"/>\n",
       "<path fill-rule=\"nonzero\" fill=\"rgb(0%, 0%, 0%)\" fill-opacity=\"1\" d=\"M 678 400 C 678 404 672 404 672 400 C 672 396 678 396 678 400 \"/>\n",
       "<path fill-rule=\"nonzero\" fill=\"rgb(0%, 0%, 0%)\" fill-opacity=\"0.1\" d=\"M 487 371.300781 L 800 371.300781 L 800 684.300781 L 487 684.300781 Z M 487 371.300781 \"/>\n",
       "<path fill-rule=\"nonzero\" fill=\"rgb(0%, 0%, 0%)\" fill-opacity=\"1\" d=\"M 646.5 527.800781 C 646.5 531.800781 640.5 531.800781 640.5 527.800781 C 640.5 523.800781 646.5 523.800781 646.5 527.800781 \"/>\n",
       "<path fill-rule=\"nonzero\" fill=\"rgb(0%, 0%, 0%)\" fill-opacity=\"0.1\" d=\"M 382.539062 452.640625 L 729.898438 452.640625 L 729.898438 800 L 382.539062 800 Z M 382.539062 452.640625 \"/>\n",
       "<path fill-rule=\"nonzero\" fill=\"rgb(0%, 0%, 0%)\" fill-opacity=\"1\" d=\"M 559.21875 626.320312 C 559.21875 630.320312 553.21875 630.320312 553.21875 626.320312 C 553.21875 622.320312 559.21875 622.320312 559.21875 626.320312 \"/>\n",
       "<path fill-rule=\"nonzero\" fill=\"rgb(0%, 0%, 0%)\" fill-opacity=\"0.1\" d=\"M 306.140625 545.988281 L 560.152344 545.988281 L 560.152344 800 L 306.140625 800 Z M 306.140625 545.988281 \"/>\n",
       "<path fill-rule=\"nonzero\" fill=\"rgb(0%, 0%, 0%)\" fill-opacity=\"1\" d=\"M 436.148438 672.996094 C 436.148438 676.996094 430.148438 676.996094 430.148438 672.996094 C 430.148438 668.996094 436.148438 668.996094 436.148438 672.996094 \"/>\n",
       "<path fill-rule=\"nonzero\" fill=\"rgb(0%, 0%, 0%)\" fill-opacity=\"0.1\" d=\"M 159.613281 514.257812 L 445.355469 514.257812 L 445.355469 800 L 159.613281 800 Z M 159.613281 514.257812 \"/>\n",
       "<path fill-rule=\"nonzero\" fill=\"rgb(0%, 0%, 0%)\" fill-opacity=\"1\" d=\"M 305.484375 657.128906 C 305.484375 661.128906 299.484375 661.128906 299.484375 657.128906 C 299.484375 653.128906 305.484375 653.128906 305.484375 657.128906 \"/>\n",
       "<path fill-rule=\"nonzero\" fill=\"rgb(0%, 0%, 0%)\" fill-opacity=\"0.1\" d=\"M 0 388.199219 L 388.320312 388.199219 L 388.320312 776.519531 L 0 776.519531 Z M 0 388.199219 \"/>\n",
       "<path fill-rule=\"nonzero\" fill=\"rgb(0%, 0%, 0%)\" fill-opacity=\"1\" d=\"M 197.160156 582.359375 C 197.160156 586.359375 191.160156 586.359375 191.160156 582.359375 C 191.160156 578.359375 197.160156 578.359375 197.160156 582.359375 \"/>\n",
       "<path fill-rule=\"nonzero\" fill=\"rgb(0%, 0%, 0%)\" fill-opacity=\"0.1\" d=\"M 0 332.820312 L 265.980469 332.820312 L 265.980469 598.800781 L 0 598.800781 Z M 0 332.820312 \"/>\n",
       "<path fill-rule=\"nonzero\" fill=\"rgb(0%, 0%, 0%)\" fill-opacity=\"1\" d=\"M 135.992188 465.8125 C 135.992188 469.8125 129.992188 469.8125 129.992188 465.8125 C 129.992188 461.8125 135.992188 461.8125 135.992188 465.8125 \"/>\n",
       "<path fill-rule=\"nonzero\" fill=\"rgb(0%, 0%, 0%)\" fill-opacity=\"0.1\" d=\"M 0 201.195312 L 265.980469 201.195312 L 265.980469 467.175781 L 0 467.175781 Z M 0 201.195312 \"/>\n",
       "<path fill-rule=\"nonzero\" fill=\"rgb(0%, 0%, 0%)\" fill-opacity=\"1\" d=\"M 135.992188 334.1875 C 135.992188 338.1875 129.992188 338.1875 129.992188 334.1875 C 129.992188 330.1875 135.992188 330.1875 135.992188 334.1875 \"/>\n",
       "<path fill-rule=\"nonzero\" fill=\"rgb(0%, 0%, 0%)\" fill-opacity=\"0.1\" d=\"M 0 23.480469 L 388.320312 23.480469 L 388.320312 411.800781 L 0 411.800781 Z M 0 23.480469 \"/>\n",
       "<path fill-rule=\"nonzero\" fill=\"rgb(0%, 0%, 0%)\" fill-opacity=\"1\" d=\"M 197.160156 217.640625 C 197.160156 221.640625 191.160156 221.640625 191.160156 217.640625 C 191.160156 213.640625 197.160156 213.640625 197.160156 217.640625 \"/>\n",
       "<path fill-rule=\"nonzero\" fill=\"rgb(0%, 0%, 0%)\" fill-opacity=\"0.1\" d=\"M 159.613281 0 L 445.355469 0 L 445.355469 285.742188 L 159.613281 285.742188 Z M 159.613281 0 \"/>\n",
       "<path fill-rule=\"nonzero\" fill=\"rgb(0%, 0%, 0%)\" fill-opacity=\"1\" d=\"M 305.484375 142.871094 C 305.484375 146.871094 299.484375 146.871094 299.484375 142.871094 C 299.484375 138.871094 305.484375 138.871094 305.484375 142.871094 \"/>\n",
       "<path fill-rule=\"nonzero\" fill=\"rgb(0%, 0%, 0%)\" fill-opacity=\"0.1\" d=\"M 306.140625 0 L 560.152344 0 L 560.152344 254.011719 L 306.140625 254.011719 Z M 306.140625 0 \"/>\n",
       "<path fill-rule=\"nonzero\" fill=\"rgb(0%, 0%, 0%)\" fill-opacity=\"1\" d=\"M 436.148438 127.003906 C 436.148438 131.003906 430.148438 131.003906 430.148438 127.003906 C 430.148438 123.003906 436.148438 123.003906 436.148438 127.003906 \"/>\n",
       "<path fill-rule=\"nonzero\" fill=\"rgb(0%, 0%, 0%)\" fill-opacity=\"0.1\" d=\"M 382.539062 0 L 729.898438 0 L 729.898438 347.359375 L 382.539062 347.359375 Z M 382.539062 0 \"/>\n",
       "<path fill-rule=\"nonzero\" fill=\"rgb(0%, 0%, 0%)\" fill-opacity=\"1\" d=\"M 559.21875 173.679688 C 559.21875 177.679688 553.21875 177.679688 553.21875 173.679688 C 553.21875 169.679688 559.21875 169.679688 559.21875 173.679688 \"/>\n",
       "<path fill-rule=\"nonzero\" fill=\"rgb(0%, 0%, 0%)\" fill-opacity=\"0.1\" d=\"M 487 115.703125 L 800 115.703125 L 800 428.703125 L 487 428.703125 Z M 487 115.703125 \"/>\n",
       "<path fill-rule=\"nonzero\" fill=\"rgb(0%, 0%, 0%)\" fill-opacity=\"1\" d=\"M 646.5 272.199219 C 646.5 276.199219 640.5 276.199219 640.5 272.199219 C 640.5 268.199219 646.5 268.199219 646.5 272.199219 \"/>\n",
       "</svg>\n"
      ],
      "text/plain": [
       "<drawing._CairoSvg>"
      ]
     },
     "execution_count": 1,
     "metadata": {},
     "output_type": "execute_result"
    }
   ],
   "source": [
    "from circle_squares import *\n",
    "draw_circle_squares(13, 275)"
   ]
  },
  {
   "cell_type": "code",
   "execution_count": null,
   "id": "9ab00e38-4355-44fa-9189-f49afe68c99f",
   "metadata": {},
   "outputs": [],
   "source": []
  }
 ],
 "metadata": {
  "kernelspec": {
   "display_name": "Python 3 (ipykernel)",
   "language": "python",
   "name": "python3"
  },
  "language_info": {
   "codemirror_mode": {
    "name": "ipython",
    "version": 3
   },
   "file_extension": ".py",
   "mimetype": "text/x-python",
   "name": "python",
   "nbconvert_exporter": "python",
   "pygments_lexer": "ipython3",
   "version": "3.12.11"
  }
 },
 "nbformat": 4,
 "nbformat_minor": 5
}
